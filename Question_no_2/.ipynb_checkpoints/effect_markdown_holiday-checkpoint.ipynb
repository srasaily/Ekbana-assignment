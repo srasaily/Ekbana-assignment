{
 "cells": [
  {
   "cell_type": "code",
   "execution_count": 101,
   "metadata": {},
   "outputs": [],
   "source": [
    "import pandas as pd\n",
    "import numpy as np \n",
    "from datetime import datetime\n",
    "import matplotlib.pylab as plt\n",
    "from matplotlib.pylab import rcParams\n",
    "rcParams['figure.figsize'] = 10, 6"
   ]
  },
  {
   "cell_type": "code",
   "execution_count": 118,
   "metadata": {},
   "outputs": [
    {
     "name": "stderr",
     "output_type": "stream",
     "text": [
      "c:\\python35\\lib\\site-packages\\pandas\\core\\frame.py:3035: SettingWithCopyWarning: \n",
      "A value is trying to be set on a copy of a slice from a DataFrame\n",
      "\n",
      "See the caveats in the documentation: http://pandas.pydata.org/pandas-docs/stable/indexing.html#indexing-view-versus-copy\n",
      "  downcast=downcast, **kwargs)\n"
     ]
    }
   ],
   "source": [
    "join_type = ['inner']\n",
    "features_data = pd.read_csv(\"Data_set/Features data set.csv\")\n",
    "sales_data = pd.read_csv(\"Data_set/sales data-set.csv\")\n",
    "Total_Weekly_Sales= sales_data[['Date', 'Weekly_Sales']].groupby(['Date']).sum().reset_index()\n",
    "Total_Weekly_Sales.rename(mapper={'Weekly_Sales': 'Total_Weekly_Sales'}, axis=1, inplace=True)\n",
    "sales_data = pd.merge(sales_data, Total_Weekly_Sales, how=join_type[0], on=['Date'])\n",
    "# TOTAL WEEKLY MARKDOWN\n",
    "markdown_columns = ['MarkDown1', 'MarkDown2', 'MarkDown3', 'MarkDown4', 'MarkDown5']\n",
    "features_data[markdown_columns] = features_data[markdown_columns].fillna(value=0)\n",
    "features_data['MarkDown'] = features_data['MarkDown1'] + features_data['MarkDown2'] + \\\n",
    "features_data['MarkDown3'] + features_data['MarkDown4'] + features_data['MarkDown5']\n",
    "\n",
    "total_weekly_features= features_data[['Date', 'MarkDown']].groupby(['Date']).sum().reset_index()\n",
    "total_weekly_features.rename(mapper={'MarkDown': 'Total_Weekly_MarkDown'}, axis=1, inplace=True)\n",
    "features_data = pd.merge(features_data, total_weekly_features, how=join_type[0], on=['Date'])"
   ]
  },
  {
   "cell_type": "code",
   "execution_count": 103,
   "metadata": {},
   "outputs": [],
   "source": [
    "join_columns = ['Date', 'Store', 'IsHoliday']\n",
    "weekly_sales_data = pd.merge(features_data, sales_data, how=join_type[0], on=join_columns)\n",
    "weekly_sales_data['Date'] = pd.to_datetime(weekly_sales_data['Date'])\n",
    "weekly_sales_data['Date'] = weekly_sales_data['Date'].dt.date"
   ]
  },
  {
   "cell_type": "code",
   "execution_count": 119,
   "metadata": {},
   "outputs": [
    {
     "data": {
      "text/html": [
       "<div>\n",
       "<style scoped>\n",
       "    .dataframe tbody tr th:only-of-type {\n",
       "        vertical-align: middle;\n",
       "    }\n",
       "\n",
       "    .dataframe tbody tr th {\n",
       "        vertical-align: top;\n",
       "    }\n",
       "\n",
       "    .dataframe thead th {\n",
       "        text-align: right;\n",
       "    }\n",
       "</style>\n",
       "<table border=\"1\" class=\"dataframe\">\n",
       "  <thead>\n",
       "    <tr style=\"text-align: right;\">\n",
       "      <th></th>\n",
       "      <th>Store</th>\n",
       "      <th>Date</th>\n",
       "      <th>Temperature</th>\n",
       "      <th>Fuel_Price</th>\n",
       "      <th>MarkDown1</th>\n",
       "      <th>MarkDown2</th>\n",
       "      <th>MarkDown3</th>\n",
       "      <th>MarkDown4</th>\n",
       "      <th>MarkDown5</th>\n",
       "      <th>CPI</th>\n",
       "      <th>Unemployment</th>\n",
       "      <th>IsHoliday</th>\n",
       "      <th>MarkDown</th>\n",
       "      <th>Total_Weekly_MarkDown</th>\n",
       "    </tr>\n",
       "  </thead>\n",
       "  <tbody>\n",
       "    <tr>\n",
       "      <th>8185</th>\n",
       "      <td>41</td>\n",
       "      <td>26/07/2013</td>\n",
       "      <td>67.56</td>\n",
       "      <td>3.582</td>\n",
       "      <td>497.67</td>\n",
       "      <td>1454.29</td>\n",
       "      <td>6.30</td>\n",
       "      <td>4.00</td>\n",
       "      <td>2418.00</td>\n",
       "      <td>NaN</td>\n",
       "      <td>NaN</td>\n",
       "      <td>False</td>\n",
       "      <td>4380.26</td>\n",
       "      <td>132024.12</td>\n",
       "    </tr>\n",
       "    <tr>\n",
       "      <th>8186</th>\n",
       "      <td>42</td>\n",
       "      <td>26/07/2013</td>\n",
       "      <td>83.32</td>\n",
       "      <td>3.865</td>\n",
       "      <td>NaN</td>\n",
       "      <td>NaN</td>\n",
       "      <td>0.17</td>\n",
       "      <td>NaN</td>\n",
       "      <td>756.79</td>\n",
       "      <td>NaN</td>\n",
       "      <td>NaN</td>\n",
       "      <td>False</td>\n",
       "      <td>NaN</td>\n",
       "      <td>132024.12</td>\n",
       "    </tr>\n",
       "    <tr>\n",
       "      <th>8187</th>\n",
       "      <td>43</td>\n",
       "      <td>26/07/2013</td>\n",
       "      <td>79.13</td>\n",
       "      <td>3.620</td>\n",
       "      <td>43.37</td>\n",
       "      <td>NaN</td>\n",
       "      <td>1.18</td>\n",
       "      <td>NaN</td>\n",
       "      <td>531.35</td>\n",
       "      <td>NaN</td>\n",
       "      <td>NaN</td>\n",
       "      <td>False</td>\n",
       "      <td>NaN</td>\n",
       "      <td>132024.12</td>\n",
       "    </tr>\n",
       "    <tr>\n",
       "      <th>8188</th>\n",
       "      <td>44</td>\n",
       "      <td>26/07/2013</td>\n",
       "      <td>83.62</td>\n",
       "      <td>3.669</td>\n",
       "      <td>134.31</td>\n",
       "      <td>NaN</td>\n",
       "      <td>1.00</td>\n",
       "      <td>NaN</td>\n",
       "      <td>199.75</td>\n",
       "      <td>NaN</td>\n",
       "      <td>NaN</td>\n",
       "      <td>False</td>\n",
       "      <td>NaN</td>\n",
       "      <td>132024.12</td>\n",
       "    </tr>\n",
       "    <tr>\n",
       "      <th>8189</th>\n",
       "      <td>45</td>\n",
       "      <td>26/07/2013</td>\n",
       "      <td>76.06</td>\n",
       "      <td>3.804</td>\n",
       "      <td>212.02</td>\n",
       "      <td>851.73</td>\n",
       "      <td>2.06</td>\n",
       "      <td>10.88</td>\n",
       "      <td>1864.57</td>\n",
       "      <td>NaN</td>\n",
       "      <td>NaN</td>\n",
       "      <td>False</td>\n",
       "      <td>2941.26</td>\n",
       "      <td>132024.12</td>\n",
       "    </tr>\n",
       "  </tbody>\n",
       "</table>\n",
       "</div>"
      ],
      "text/plain": [
       "      Store        Date  Temperature  Fuel_Price  MarkDown1  MarkDown2  \\\n",
       "8185     41  26/07/2013        67.56       3.582     497.67    1454.29   \n",
       "8186     42  26/07/2013        83.32       3.865        NaN        NaN   \n",
       "8187     43  26/07/2013        79.13       3.620      43.37        NaN   \n",
       "8188     44  26/07/2013        83.62       3.669     134.31        NaN   \n",
       "8189     45  26/07/2013        76.06       3.804     212.02     851.73   \n",
       "\n",
       "      MarkDown3  MarkDown4  MarkDown5  CPI  Unemployment  IsHoliday  MarkDown  \\\n",
       "8185       6.30       4.00    2418.00  NaN           NaN      False   4380.26   \n",
       "8186       0.17        NaN     756.79  NaN           NaN      False       NaN   \n",
       "8187       1.18        NaN     531.35  NaN           NaN      False       NaN   \n",
       "8188       1.00        NaN     199.75  NaN           NaN      False       NaN   \n",
       "8189       2.06      10.88    1864.57  NaN           NaN      False   2941.26   \n",
       "\n",
       "      Total_Weekly_MarkDown  \n",
       "8185              132024.12  \n",
       "8186              132024.12  \n",
       "8187              132024.12  \n",
       "8188              132024.12  \n",
       "8189              132024.12  "
      ]
     },
     "execution_count": 119,
     "metadata": {},
     "output_type": "execute_result"
    }
   ],
   "source": [
    "features_data.tail()"
   ]
  },
  {
   "cell_type": "code",
   "execution_count": 104,
   "metadata": {},
   "outputs": [],
   "source": [
    "weekly_sales_data = weekly_sales_data[weekly_sales_data.IsHoliday==True]"
   ]
  },
  {
   "cell_type": "code",
   "execution_count": 105,
   "metadata": {},
   "outputs": [],
   "source": []
  },
  {
   "cell_type": "code",
   "execution_count": 106,
   "metadata": {},
   "outputs": [],
   "source": [
    "Total_Weekly_Sales= sales_data[['Date', 'Weekly_Sales']].groupby(['Date']).sum().reset_index()\n",
    "Total_Weekly_Sales.rename(mapper={'Weekly_Sales': 'Total_Weekly_Sales'}, axis=1, inplace=True)"
   ]
  },
  {
   "cell_type": "code",
   "execution_count": 107,
   "metadata": {},
   "outputs": [],
   "source": [
    "\n",
    "select_columns = ['MarkDown', 'Date', 'Total_Weekly_Sales']\n",
    "weekly_sales_data = weekly_sales_data[select_columns]"
   ]
  },
  {
   "cell_type": "code",
   "execution_count": 108,
   "metadata": {},
   "outputs": [],
   "source": [
    "weekly_sales_data.drop_duplicates(keep='first', inplace=True)"
   ]
  },
  {
   "cell_type": "code",
   "execution_count": 82,
   "metadata": {},
   "outputs": [],
   "source": []
  },
  {
   "cell_type": "code",
   "execution_count": 111,
   "metadata": {},
   "outputs": [],
   "source": [
    "weekly_sales_data.sort_values(by='Date', inplace=True)\n",
    "weekly_sales_data.reset_index(inplace=True)\n",
    "weekly_sales_data.drop(columns=['index'], inplace=True)"
   ]
  },
  {
   "cell_type": "code",
   "execution_count": 113,
   "metadata": {},
   "outputs": [],
   "source": [
    "Total_Sales = weekly_sales_data[['Date','Total_Weekly_Sales']].set_index('Date')\n",
    "Total_Markdown = weekly_sales_data[['Date','MarkDown']].set_index('Date')"
   ]
  },
  {
   "cell_type": "code",
   "execution_count": 116,
   "metadata": {},
   "outputs": [
    {
     "data": {
      "text/plain": [
       "[<matplotlib.lines.Line2D at 0x1c3967202b0>]"
      ]
     },
     "execution_count": 116,
     "metadata": {},
     "output_type": "execute_result"
    },
    {
     "data": {
      "image/png": "[encoded data removed]",
      "text/plain": [
       "<matplotlib.figure.Figure at 0x1c3968a1160>"
      ]
     },
     "metadata": {},
     "output_type": "display_data"
    }
   ],
   "source": [
    "plt.xlabel(\"Date\")\n",
    "plt.ylabel(\"Number\")\n",
    "plt.plot(Total_Markdown)"
   ]
  },
  {
   "cell_type": "code",
   "execution_count": 114,
   "metadata": {},
   "outputs": [
    {
     "data": {
      "text/plain": [
       "[<matplotlib.lines.Line2D at 0x1c3894fc748>]"
      ]
     },
     "execution_count": 114,
     "metadata": {},
     "output_type": "execute_result"
    },
    {
     "data": {
      "image/png": "[encoded data removed]",
      "text/plain": [
       "<matplotlib.figure.Figure at 0x1c3894c4400>"
      ]
     },
     "metadata": {},
     "output_type": "display_data"
    }
   ],
   "source": [
    "plt.xlabel(\"Date\")\n",
    "plt.ylabel(\"Number\")\n",
    "plt.plot(Total_Sales)\n",
    "plt.plot(Total_Markdown)"
   ]
  },
  {
   "cell_type": "code",
   "execution_count": null,
   "metadata": {},
   "outputs": [],
   "source": []
  }
 ],
 "metadata": {
  "kernelspec": {
   "display_name": "Python 3",
   "language": "python",
   "name": "python3"
  },
  "language_info": {
   "codemirror_mode": {
    "name": "ipython",
    "version": 3
   },
   "file_extension": ".py",
   "mimetype": "text/x-python",
   "name": "python",
   "nbconvert_exporter": "python",
   "pygments_lexer": "ipython3",
   "version": "3.5.2"
  }
 },
 "nbformat": 4,
 "nbformat_minor": 2
}
