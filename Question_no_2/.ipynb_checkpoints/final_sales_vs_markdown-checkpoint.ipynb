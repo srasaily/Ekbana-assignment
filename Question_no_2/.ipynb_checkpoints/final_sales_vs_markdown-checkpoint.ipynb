{
 "cells": [
  {
   "cell_type": "code",
   "execution_count": 1,
   "metadata": {},
   "outputs": [],
   "source": [
    "import pandas as pd\n",
    "import numpy as np \n",
    "from datetime import datetime\n",
    "import matplotlib.pylab as plt\n",
    "from matplotlib.pylab import rcParams\n",
    "rcParams['figure.figsize'] = 10, 6"
   ]
  },
  {
   "cell_type": "code",
   "execution_count": 2,
   "metadata": {},
   "outputs": [],
   "source": [
    "join_type = ['inner']\n",
    "features_data = pd.read_csv(\"Data_set/Features data set.csv\")\n",
    "sales_data = pd.read_csv(\"Data_set/sales data-set.csv\")\n",
    "Total_Weekly_Sales= sales_data[['Date', 'Weekly_Sales']].groupby(['Date']).sum().reset_index()\n",
    "Total_Weekly_Sales.rename(mapper={'Weekly_Sales': 'Total_Weekly_Sales'}, axis=1, inplace=True)\n",
    "sales_data = pd.merge(sales_data, Total_Weekly_Sales, how=join_type[0], on=['Date'])\n",
    "# TOTAL WEEKLY MARKDOWN\n",
    "markdown_columns = ['MarkDown1', 'MarkDown2', 'MarkDown3', 'MarkDown4', 'MarkDown5']\n",
    "features_data[markdown_columns] = features_data[markdown_columns].fillna(value=0)\n",
    "features_data['MarkDown'] = features_data['MarkDown1'] + features_data['MarkDown2'] + \\\n",
    "features_data['MarkDown3'] + features_data['MarkDown4'] + features_data['MarkDown5']\n",
    "\n",
    "total_weekly_features= features_data[['Date', 'MarkDown']].groupby(['Date']).sum().reset_index()\n",
    "total_weekly_features.rename(mapper={'MarkDown': 'Total_Weekly_MarkDown'}, axis=1, inplace=True)\n",
    "features_data = pd.merge(features_data, total_weekly_features, how=join_type[0], on=['Date'])"
   ]
  },
  {
   "cell_type": "code",
   "execution_count": 9,
   "metadata": {},
   "outputs": [],
   "source": [
    "join_columns = ['Date', 'Store', 'IsHoliday']\n",
    "weekly_sales_data = pd.merge(features_data, sales_data, how=join_type[0], on=join_columns)\n",
    "weekly_sales_data['Date'] = pd.to_datetime(weekly_sales_data['Date'])\n",
    "weekly_sales_data['Date'] = weekly_sales_data['Date'].dt.date"
   ]
  },
  {
   "cell_type": "code",
   "execution_count": 22,
   "metadata": {},
   "outputs": [
    {
     "data": {
      "text/html": [
       "<div>\n",
       "<style scoped>\n",
       "    .dataframe tbody tr th:only-of-type {\n",
       "        vertical-align: middle;\n",
       "    }\n",
       "\n",
       "    .dataframe tbody tr th {\n",
       "        vertical-align: top;\n",
       "    }\n",
       "\n",
       "    .dataframe thead th {\n",
       "        text-align: right;\n",
       "    }\n",
       "</style>\n",
       "<table border=\"1\" class=\"dataframe\">\n",
       "  <thead>\n",
       "    <tr style=\"text-align: right;\">\n",
       "      <th></th>\n",
       "      <th>Total_Weekly_MarkDown</th>\n",
       "      <th>Date</th>\n",
       "      <th>Total_Weekly_Sales</th>\n",
       "    </tr>\n",
       "  </thead>\n",
       "  <tbody>\n",
       "    <tr>\n",
       "      <th>5</th>\n",
       "      <td>0.00</td>\n",
       "      <td>2011-11-02</td>\n",
       "      <td>47336192.79</td>\n",
       "    </tr>\n",
       "    <tr>\n",
       "      <th>6</th>\n",
       "      <td>2517699.47</td>\n",
       "      <td>2011-11-25</td>\n",
       "      <td>66593605.26</td>\n",
       "    </tr>\n",
       "    <tr>\n",
       "      <th>7</th>\n",
       "      <td>2096165.84</td>\n",
       "      <td>2011-12-30</td>\n",
       "      <td>46042461.04</td>\n",
       "    </tr>\n",
       "    <tr>\n",
       "      <th>8</th>\n",
       "      <td>625814.47</td>\n",
       "      <td>2012-07-09</td>\n",
       "      <td>48330059.31</td>\n",
       "    </tr>\n",
       "    <tr>\n",
       "      <th>9</th>\n",
       "      <td>1346204.71</td>\n",
       "      <td>2012-10-02</td>\n",
       "      <td>50009407.92</td>\n",
       "    </tr>\n",
       "  </tbody>\n",
       "</table>\n",
       "</div>"
      ],
      "text/plain": [
       "   Total_Weekly_MarkDown        Date  Total_Weekly_Sales\n",
       "5                   0.00  2011-11-02         47336192.79\n",
       "6             2517699.47  2011-11-25         66593605.26\n",
       "7             2096165.84  2011-12-30         46042461.04\n",
       "8              625814.47  2012-07-09         48330059.31\n",
       "9             1346204.71  2012-10-02         50009407.92"
      ]
     },
     "execution_count": 22,
     "metadata": {},
     "output_type": "execute_result"
    }
   ],
   "source": [
    "weekly_sales_subset.tail()"
   ]
  },
  {
   "cell_type": "code",
   "execution_count": 12,
   "metadata": {},
   "outputs": [],
   "source": [
    "weekly_sales_subset = weekly_sales_data[weekly_sales_data.IsHoliday==True]"
   ]
  },
  {
   "cell_type": "code",
   "execution_count": 13,
   "metadata": {},
   "outputs": [],
   "source": [
    "select_columns = ['Total_Weekly_MarkDown', 'Date', 'Total_Weekly_Sales']\n",
    "weekly_sales_subset = weekly_sales_subset[select_columns]"
   ]
  },
  {
   "cell_type": "code",
   "execution_count": 17,
   "metadata": {},
   "outputs": [],
   "source": [
    "weekly_sales_subset.drop_duplicates(keep='first', inplace=True)\n",
    "weekly_sales_subset.sort_values(by='Date', inplace=True)\n",
    "weekly_sales_subset.reset_index(inplace=True)\n",
    "weekly_sales_subset.drop(columns=['index'], inplace=True)"
   ]
  },
  {
   "cell_type": "code",
   "execution_count": 20,
   "metadata": {},
   "outputs": [],
   "source": [
    "Total_Sales = weekly_sales_subset[['Date','Total_Weekly_Sales']].set_index('Date')\n",
    "Total_Markdown = weekly_sales_subset[['Date','Total_Weekly_MarkDown']].set_index('Date')"
   ]
  },
  {
   "cell_type": "code",
   "execution_count": 21,
   "metadata": {},
   "outputs": [
    {
     "data": {
      "text/plain": [
       "[<matplotlib.lines.Line2D at 0x19ace547dd8>]"
      ]
     },
     "execution_count": 21,
     "metadata": {},
     "output_type": "execute_result"
    },
    {
     "data": {
      "image/png": "[encoded data removed]",
      "text/plain": [
       "<matplotlib.figure.Figure at 0x19ac3c21908>"
      ]
     },
     "metadata": {},
     "output_type": "display_data"
    }
   ],
   "source": [
    "plt.xlabel(\"Date\")\n",
    "plt.ylabel(\"Number\")\n",
    "plt.plot(Total_Markdown)\n",
    "plt.plot(Total_Sales)"
   ]
  },
  {
   "cell_type": "code",
   "execution_count": null,
   "metadata": {},
   "outputs": [],
   "source": []
  }
 ],
 "metadata": {
  "kernelspec": {
   "display_name": "Python 3",
   "language": "python",
   "name": "python3"
  },
  "language_info": {
   "codemirror_mode": {
    "name": "ipython",
    "version": 3
   },
   "file_extension": ".py",
   "mimetype": "text/x-python",
   "name": "python",
   "nbconvert_exporter": "python",
   "pygments_lexer": "ipython3",
   "version": "3.5.2"
  }
 },
 "nbformat": 4,
 "nbformat_minor": 2
}
